{
 "cells": [
  {
   "cell_type": "code",
   "execution_count": 17,
   "metadata": {},
   "outputs": [],
   "source": [
    "import cv2\n",
    "import numpy as np\n",
    "\n",
    "import json\n",
    "from collections import defaultdict\n",
    "from pathlib import Path\n",
    "\n",
    "import matplotlib.pyplot as plt\n",
    "import numpy as np\n",
    "import torch\n",
    "from matplotlib import patches\n",
    "from PIL import Image\n",
    "import glob\n",
    "\n",
    "from percentOfWhite import PCD_CV"
   ]
  },
  {
   "cell_type": "code",
   "execution_count": 21,
   "metadata": {},
   "outputs": [],
   "source": [
    "path = \"pcd/set0/test/mask/*.*\"\n",
    "mask_no = 1"
   ]
  },
  {
   "cell_type": "code",
   "execution_count": 30,
   "metadata": {},
   "outputs": [
    {
     "name": "stdout",
     "output_type": "stream",
     "text": [
      "The Amount of change in pcd/set0/test/mask/00000039.png is 27.7 %\n",
      "The Amount of change in pcd/set0/test/mask/00000013.png is 21.4 %\n",
      "The Amount of change in pcd/set0/test/mask/00000073.png is 25.2 %\n",
      "The Amount of change in pcd/set0/test/mask/00000049.png is 33.5 %\n",
      "The Amount of change in pcd/set0/test/mask/00000074.png is 16.1 %\n",
      "The Amount of change in pcd/set0/test/mask/00000088.png is 14.5 %\n",
      "The Amount of change in pcd/set0/test/mask/00000046.png is 33.9 %\n",
      "The Amount of change in pcd/set0/test/mask/00000090.png is 21.6 %\n",
      "The Amount of change in pcd/set0/test/mask/00000084.png is 35.3 %\n",
      "The Amount of change in pcd/set0/test/mask/00000079.png is 9.8 %\n",
      "The Amount of change in pcd/set0/test/mask/00000051.png is 24.8 %\n",
      "The Amount of change in pcd/set0/test/mask/00000050.png is 38.6 %\n",
      "The Amount of change in pcd/set0/test/mask/00000093.png is 29.2 %\n",
      "The Amount of change in pcd/set0/test/mask/00000054.png is 24.0 %\n",
      "The Amount of change in pcd/set0/test/mask/00000068.png is 24.1 %\n",
      "The Amount of change in pcd/set0/test/mask/00000096.png is 33.5 %\n",
      "The Amount of change in pcd/set0/test/mask/00000042.png is 38.8 %\n",
      "The Amount of change in pcd/set0/test/mask/00000081.png is 31.7 %\n",
      "The Amount of change in pcd/set0/test/mask/00000026.png is 18.1 %\n",
      "The Amount of change in pcd/set0/test/mask/00000021.png is 38.2 %\n"
     ]
    }
   ],
   "source": [
    "for file in glob.glob(path):\n",
    "    # print(file)\n",
    "    mask_dt = img = cv2.imread(file)\n",
    "    cv2.imshow('Image',img)\n",
    "\n",
    "    # counting the number of pixels\n",
    "    number_of_white_pix = np.sum(img == 255)\n",
    "\n",
    "    # find total number of pixels\n",
    "    tot_pix = img.size\n",
    "\n",
    "    white_pix_percentage = (number_of_white_pix / tot_pix) * 100;\n",
    "\n",
    "    # number_of_black_pix = np.sum(img == 0)\n",
    "    print('The Amount of change in', file, \"is\", \"%.1f\" % white_pix_percentage , '%')"
   ]
  },
  {
   "cell_type": "code",
   "execution_count": null,
   "metadata": {},
   "outputs": [],
   "source": []
  }
 ],
 "metadata": {
  "kernelspec": {
   "display_name": "Python 3",
   "language": "python",
   "name": "python3"
  },
  "language_info": {
   "codemirror_mode": {
    "name": "ipython",
    "version": 3
   },
   "file_extension": ".py",
   "mimetype": "text/x-python",
   "name": "python",
   "nbconvert_exporter": "python",
   "pygments_lexer": "ipython3",
   "version": "3.9.13"
  },
  "orig_nbformat": 4
 },
 "nbformat": 4,
 "nbformat_minor": 2
}
