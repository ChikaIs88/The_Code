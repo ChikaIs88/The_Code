{
 "cells": [
  {
   "cell_type": "code",
   "execution_count": 3,
   "metadata": {},
   "outputs": [],
   "source": [
    "import cv2\n",
    "import numpy as np\n",
    "\n",
    "import json\n",
    "from collections import defaultdict\n",
    "from pathlib import Path\n",
    "\n",
    "import matplotlib.pyplot as plt\n",
    "import numpy as np\n",
    "import torch\n",
    "from matplotlib import patches\n",
    "from PIL import Image\n",
    "import glob\n",
    "# from scipy.misc import imread, imsave, imresize\n",
    "\n",
    "# from percentOfWhite import PCD_CV"
   ]
  },
  {
   "cell_type": "code",
   "execution_count": 4,
   "metadata": {},
   "outputs": [],
   "source": [
    "path = \"pcd/set0/test/mask/*.*\"\n",
    "mask_no = 1"
   ]
  },
  {
   "cell_type": "code",
   "execution_count": 9,
   "metadata": {},
   "outputs": [
    {
     "name": "stdout",
     "output_type": "stream",
     "text": [
      "The Amount of change in pcd/set0/test/mask/00000039.png is 0.3\n",
      "2\n",
      "The Amount of change in pcd/set0/test/mask/00000013.png is 0.2\n",
      "2\n",
      "The Amount of change in pcd/set0/test/mask/00000073.png is 0.3\n",
      "2\n",
      "The Amount of change in pcd/set0/test/mask/00000049.png is 0.3\n",
      "2\n",
      "The Amount of change in pcd/set0/test/mask/00000074.png is 0.2\n",
      "2\n",
      "The Amount of change in pcd/set0/test/mask/00000088.png is 0.1\n",
      "2\n",
      "The Amount of change in pcd/set0/test/mask/00000046.png is 0.3\n",
      "2\n",
      "The Amount of change in pcd/set0/test/mask/00000090.png is 0.2\n",
      "2\n",
      "The Amount of change in pcd/set0/test/mask/00000084.png is 0.4\n",
      "2\n",
      "The Amount of change in pcd/set0/test/mask/00000079.png is 0.1\n",
      "2\n",
      "The Amount of change in pcd/set0/test/mask/00000051.png is 0.2\n",
      "2\n",
      "The Amount of change in pcd/set0/test/mask/00000050.png is 0.4\n",
      "2\n",
      "The Amount of change in pcd/set0/test/mask/00000093.png is 0.3\n",
      "2\n",
      "The Amount of change in pcd/set0/test/mask/00000054.png is 0.2\n",
      "2\n",
      "The Amount of change in pcd/set0/test/mask/00000068.png is 0.2\n",
      "2\n",
      "The Amount of change in pcd/set0/test/mask/00000096.png is 0.3\n",
      "2\n",
      "The Amount of change in pcd/set0/test/mask/00000042.png is 0.4\n",
      "2\n",
      "The Amount of change in pcd/set0/test/mask/00000081.png is 0.3\n",
      "2\n",
      "The Amount of change in pcd/set0/test/mask/00000026.png is 0.2\n",
      "2\n",
      "The Amount of change in pcd/set0/test/mask/00000021.png is 0.4\n",
      "2\n"
     ]
    }
   ],
   "source": [
    "for file in glob.glob(path):\n",
    "    # print(file)\n",
    "    mask_dt = img = cv2.imread(file)\n",
    "    cv2.imshow('Image',img)\n",
    "    \n",
    "    if(len(img.shape)>=3):\n",
    "        # converting to its binary form\n",
    "        img_grey = cv2.imread(file, cv2.IMREAD_GRAYSCALE)\n",
    "\n",
    "        # define a threshold, 128 is the middle of black and white in grey scale\n",
    "        thresh = 150\n",
    "\n",
    "        # threshold the image\n",
    "        img_binary = cv2.threshold(img_grey, thresh, 255, cv2.THRESH_BINARY)[1]\n",
    "  \n",
    "    # counting the number of pixels\n",
    "    number_of_white_pix = np.sum(img_binary == 255)\n",
    "\n",
    "    # find total number of pixels\n",
    "    tot_pix = img_binary.size\n",
    "\n",
    "    white_pix_amount = number_of_white_pix / tot_pix\n",
    "\n",
    "    # number_of_black_pix = np.sum(img == 0)\n",
    "    print('The Amount of change in', file, \"is\", \"%.1f\" % white_pix_amount )\n",
    "    # print(len(img_binary.shape))"
   ]
  },
  {
   "cell_type": "code",
   "execution_count": null,
   "metadata": {},
   "outputs": [],
   "source": []
  }
 ],
 "metadata": {
  "kernelspec": {
   "display_name": "Python 3",
   "language": "python",
   "name": "python3"
  },
  "language_info": {
   "codemirror_mode": {
    "name": "ipython",
    "version": 3
   },
   "file_extension": ".py",
   "mimetype": "text/x-python",
   "name": "python",
   "nbconvert_exporter": "python",
   "pygments_lexer": "ipython3",
   "version": "3.9.13"
  },
  "orig_nbformat": 4
 },
 "nbformat": 4,
 "nbformat_minor": 2
}
