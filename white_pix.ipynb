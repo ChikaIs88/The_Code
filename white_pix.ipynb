{
 "cells": [
  {
   "cell_type": "code",
   "execution_count": 1,
   "metadata": {},
   "outputs": [],
   "source": [
    "import cv2\n",
    "import numpy as np\n",
    "\n",
    "import json\n",
    "from collections import defaultdict\n",
    "from pathlib import Path\n",
    "\n",
    "import matplotlib.pyplot as plt\n",
    "import numpy as np\n",
    "import torch\n",
    "from matplotlib import patches\n",
    "from PIL import Image\n",
    "import glob\n",
    "\n",
    "import torch.nn as nn\n",
    "from torch.utils.data import Dataset, DataLoader\n",
    "from torchvision.transforms import Compose, ToTensor, Normalize\n",
    "\n",
    "# from scipy.misc import imread, imsave, imresize\n",
    "\n",
    "# from percentOfWhite import PCD_CV"
   ]
  },
  {
   "cell_type": "code",
   "execution_count": 2,
   "metadata": {},
   "outputs": [],
   "source": [
    "path = \"pcd/set0/train/mask/*.*\"\n",
    "mask_no = 1"
   ]
  },
  {
   "cell_type": "code",
   "execution_count": 3,
   "metadata": {},
   "outputs": [
    {
     "name": "stdout",
     "output_type": "stream",
     "text": [
      "The Amount of change in pcd/set0/train/mask/00000038.jpg is 0.36\n",
      "The Amount of change in pcd/set0/train/mask/00000067.jpg is 0.27\n",
      "The Amount of change in pcd/set0/train/mask/00000098.jpg is 0.17\n",
      "The Amount of change in pcd/set0/train/mask/00000099.jpg is 0.17\n",
      "The Amount of change in pcd/set0/train/mask/00000066.jpg is 0.26\n",
      "The Amount of change in pcd/set0/train/mask/00000072.jpg is 0.31\n",
      "The Amount of change in pcd/set0/train/mask/00000058.jpg is 0.23\n",
      "The Amount of change in pcd/set0/train/mask/00000064.jpg is 0.21\n",
      "The Amount of change in pcd/set0/train/mask/00000070.jpg is 0.37\n",
      "The Amount of change in pcd/set0/train/mask/00000071.jpg is 0.29\n",
      "The Amount of change in pcd/set0/train/mask/00000065.jpg is 0.24\n",
      "The Amount of change in pcd/set0/train/mask/00000059.jpg is 0.18\n",
      "The Amount of change in pcd/set0/train/mask/00000061.jpg is 0.35\n",
      "The Amount of change in pcd/set0/train/mask/00000075.jpg is 0.26\n",
      "The Amount of change in pcd/set0/train/mask/00000048.jpg is 0.33\n",
      "The Amount of change in pcd/set0/train/mask/00000060.jpg is 0.32\n",
      "The Amount of change in pcd/set0/train/mask/00000076.jpg is 0.23\n",
      "The Amount of change in pcd/set0/train/mask/00000062.jpg is 0.36\n",
      "The Amount of change in pcd/set0/train/mask/00000089.jpg is 0.22\n",
      "The Amount of change in pcd/set0/train/mask/00000063.jpg is 0.34\n",
      "The Amount of change in pcd/set0/train/mask/00000077.jpg is 0.31\n",
      "The Amount of change in pcd/set0/train/mask/00000052.jpg is 0.41\n",
      "The Amount of change in pcd/set0/train/mask/00000091.jpg is 0.19\n",
      "The Amount of change in pcd/set0/train/mask/00000085.jpg is 0.35\n",
      "The Amount of change in pcd/set0/train/mask/00000047.jpg is 0.30\n",
      "The Amount of change in pcd/set0/train/mask/00000053.jpg is 0.49\n",
      "The Amount of change in pcd/set0/train/mask/00000045.jpg is 0.42\n",
      "The Amount of change in pcd/set0/train/mask/00000086.jpg is 0.31\n",
      "The Amount of change in pcd/set0/train/mask/00000092.jpg is 0.27\n",
      "The Amount of change in pcd/set0/train/mask/00000087.jpg is 0.19\n",
      "The Amount of change in pcd/set0/train/mask/00000044.jpg is 0.20\n",
      "The Amount of change in pcd/set0/train/mask/00000078.jpg is 0.22\n",
      "The Amount of change in pcd/set0/train/mask/00000040.jpg is 0.40\n",
      "The Amount of change in pcd/set0/train/mask/00000083.jpg is 0.23\n",
      "The Amount of change in pcd/set0/train/mask/00000097.jpg is 0.13\n",
      "The Amount of change in pcd/set0/train/mask/00000082.jpg is 0.24\n",
      "The Amount of change in pcd/set0/train/mask/00000069.jpg is 0.31\n",
      "The Amount of change in pcd/set0/train/mask/00000055.jpg is 0.35\n",
      "The Amount of change in pcd/set0/train/mask/00000041.jpg is 0.47\n",
      "The Amount of change in pcd/set0/train/mask/00000057.jpg is 0.41\n",
      "The Amount of change in pcd/set0/train/mask/00000043.jpg is 0.35\n",
      "The Amount of change in pcd/set0/train/mask/00000094.jpg is 0.23\n",
      "The Amount of change in pcd/set0/train/mask/00000080.jpg is 0.26\n",
      "The Amount of change in pcd/set0/train/mask/00000095.jpg is 0.37\n",
      "The Amount of change in pcd/set0/train/mask/00000056.jpg is 0.20\n",
      "The Amount of change in pcd/set0/train/mask/00000033.jpg is 0.36\n",
      "The Amount of change in pcd/set0/train/mask/00000037.jpg is 0.36\n",
      "The Amount of change in pcd/set0/train/mask/00000036.jpg is 0.36\n",
      "The Amount of change in pcd/set0/train/mask/00000034.jpg is 0.40\n",
      "The Amount of change in pcd/set0/train/mask/00000035.jpg is 0.43\n"
     ]
    }
   ],
   "source": [
    "for file in glob.glob(path):\n",
    "    # print(file)\n",
    "    mask_dt = img = cv2.imread(file)\n",
    "    cv2.imshow('Image',img)\n",
    "    \n",
    "    if(len(img.shape)>=3):\n",
    "        # converting to its binary form\n",
    "        img_grey = cv2.imread(file, cv2.IMREAD_GRAYSCALE)\n",
    "\n",
    "        # define a threshold, 128 is the middle of black and white in grey scale\n",
    "        thresh = 150\n",
    "\n",
    "        # threshold the image\n",
    "        img_binary = cv2.threshold(img_grey, thresh, 255, cv2.THRESH_BINARY)[1]\n",
    "  \n",
    "    # counting the number of pixels\n",
    "    number_of_white_pix = np.sum(img_binary == 255)\n",
    "\n",
    "    # find total number of pixels\n",
    "    tot_pix = img_binary.size\n",
    "\n",
    "    white_pix_amount = number_of_white_pix / tot_pix\n",
    "\n",
    "    # number_of_black_pix = np.sum(img == 0)\n",
    "    print('The Amount of change in', file, \"is\", \"%.2f\" % white_pix_amount )\n",
    "    # print(len(img_binary.shape))"
   ]
  },
  {
   "cell_type": "code",
   "execution_count": null,
   "metadata": {},
   "outputs": [],
   "source": [
    "image_path = \"pcd/set0/train/mask/*.*\""
   ]
  },
  {
   "cell_type": "code",
   "execution_count": 5,
   "metadata": {},
   "outputs": [],
   "source": [
    "import torch\n",
    "from PIL import Image\n",
    "\n",
    "def image_to_tensor(image_path):\n",
    "    \"\"\"\n",
    "    This function takes the path of an image file and converts it to a tensor.\n",
    "    \n",
    "    Parameters:\n",
    "    image_path (str): The path of the image file\n",
    "    \n",
    "    Returns:\n",
    "    torch.Tensor: The image converted to a tensor\n",
    "    \"\"\"\n",
    "    try:\n",
    "        # Open the image using PIL\n",
    "        image = Image.open(image_path)\n",
    "        \n",
    "        # Convert the image to a tensor\n",
    "        tensor = torch.Tensor(image)\n",
    "        \n",
    "        return tensor\n",
    "    except Exception as e:\n",
    "        # Log the error\n",
    "        print(f\"Error: {e}\")\n",
    "        return None"
   ]
  },
  {
   "cell_type": "code",
   "execution_count": 3,
   "metadata": {},
   "outputs": [
    {
     "ename": "",
     "evalue": "",
     "output_type": "error",
     "traceback": [
      "\u001b[1;31mCannot execute code, session has been disposed. Please try restarting the Kernel."
     ]
    },
    {
     "ename": "",
     "evalue": "",
     "output_type": "error",
     "traceback": [
      "\u001b[1;31mThe Kernel crashed while executing code in the the current cell or a previous cell. Please review the code in the cell(s) to identify a possible cause of the failure. Click <a href='https://aka.ms/vscodeJupyterKernelCrash'>here</a> for more info. View Jupyter <a href='command:jupyter.viewOutput'>log</a> for further details."
     ]
    }
   ],
   "source": [
    "import tensorflow as tf\n",
    "import numpy as np\n",
    "\n",
    "def generate_change_mask(image1_path, image2_path):\n",
    "    # Load the images\n",
    "    image1 = tf.constant(np.array(Image.open(image1_path)), dtype=tf.float32)\n",
    "    image2 = tf.constant(np.array(Image.open(image2_path)), dtype=tf.float32)\n",
    "\n",
    "    # Compute the absolute difference between the images\n",
    "    diff = tf.abs(image1 - image2)\n",
    "\n",
    "    # Convert the difference tensor to grayscale\n",
    "    gray_diff = tf.reduce_mean(diff, axis=-1)\n",
    "\n",
    "    # Threshold the grayscale difference tensor to create a binary mask\n",
    "    threshold = tf.reduce_max(gray_diff) * 0.5\n",
    "    mask = tf.cast(tf.greater(gray_diff, threshold), tf.float32)\n",
    "\n",
    "    return mask\n",
    "\n",
    "# Example usage\n",
    "from PIL import Image\n",
    "\n",
    "image_path1 = \"pcd/set0/train/t0/00000059.jpg\"\n",
    "image_path2 = \"pcd/set0/train/t1/00000059.jpg\"\n",
    "\n",
    "change_mask = generate_change_mask(image_path1, image_path2)\n",
    "\n",
    "# Print the change mask tensor shape\n",
    "print(change_mask.shape)\n"
   ]
  }
 ],
 "metadata": {
  "kernelspec": {
   "display_name": "Python 3",
   "language": "python",
   "name": "python3"
  },
  "language_info": {
   "codemirror_mode": {
    "name": "ipython",
    "version": 3
   },
   "file_extension": ".py",
   "mimetype": "text/x-python",
   "name": "python",
   "nbconvert_exporter": "python",
   "pygments_lexer": "ipython3",
   "version": "3.9.13"
  },
  "orig_nbformat": 4
 },
 "nbformat": 4,
 "nbformat_minor": 2
}
