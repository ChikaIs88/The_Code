{
  "nbformat": 4,
  "nbformat_minor": 0,
  "metadata": {
    "colab": {
      "provenance": [],
      "gpuType": "T4"
    },
    "kernelspec": {
      "name": "python3",
      "display_name": "Python 3"
    },
    "language_info": {
      "name": "python"
    },
    "accelerator": "GPU"
  },
  "cells": [
    {
      "cell_type": "code",
      "execution_count": null,
      "metadata": {
        "colab": {
          "base_uri": "https://localhost:8080/"
        },
        "id": "Oimp5yBOOWIU",
        "outputId": "c184890c-8947-4294-a6ce-3f21d8aa8556"
      },
      "outputs": [
        {
          "output_type": "stream",
          "name": "stdout",
          "text": [
            "Cloning into 'The_Code'...\n",
            "remote: Enumerating objects: 599, done.\u001b[K\n",
            "remote: Counting objects: 100% (599/599), done.\u001b[K\n",
            "remote: Compressing objects: 100% (528/528), done.\u001b[K\n",
            "remote: Total 599 (delta 105), reused 562 (delta 68), pack-reused 0\u001b[K\n",
            "Receiving objects: 100% (599/599), 25.28 MiB | 41.89 MiB/s, done.\n",
            "Resolving deltas: 100% (105/105), done.\n"
          ]
        }
      ],
      "source": [
        "!git clone https://github.com/ChikaIs88/The_Code.git"
      ]
    },
    {
      "cell_type": "code",
      "source": [
        "%cd The_Code"
      ],
      "metadata": {
        "colab": {
          "base_uri": "https://localhost:8080/"
        },
        "id": "ltEsaAQ0OdiK",
        "outputId": "76f3df86-5d2e-4ed9-8f86-a6bc2e13fa5b"
      },
      "execution_count": null,
      "outputs": [
        {
          "output_type": "stream",
          "name": "stdout",
          "text": [
            "/content/The_Code\n"
          ]
        }
      ]
    },
    {
      "cell_type": "code",
      "source": [
        "!pip install Lightning"
      ],
      "metadata": {
        "id": "hHrx5hhCPtMp"
      },
      "execution_count": null,
      "outputs": []
    },
    {
      "cell_type": "code",
      "source": [
        "!pip install nvidia-pyindex"
      ],
      "metadata": {
        "id": "YpGQ-BUjoaf3"
      },
      "execution_count": null,
      "outputs": []
    },
    {
      "cell_type": "code",
      "source": [
        "!pip install nvidia-tensorrt\n"
      ],
      "metadata": {
        "id": "xQXBpBJ8r6Yr"
      },
      "execution_count": null,
      "outputs": []
    },
    {
      "cell_type": "code",
      "source": [
        "!python3 test.py"
      ],
      "metadata": {
        "colab": {
          "base_uri": "https://localhost:8080/"
        },
        "id": "G2rvCTDCPGlm",
        "outputId": "348124d3-26fa-41cd-a8fe-3f6f6b26379b"
      },
      "execution_count": null,
      "outputs": [
        {
          "output_type": "stream",
          "name": "stdout",
          "text": [
            "The Amount of change between 0.51\n",
            "tensor([[[[0.7059, 0.7098, 0.7098,  ..., 0.7255, 0.7216, 0.7176],\n",
            "          [0.7216, 0.7255, 0.7216,  ..., 0.7255, 0.7216, 0.7176],\n",
            "          [0.7333, 0.7333, 0.7373,  ..., 0.7373, 0.7333, 0.7255],\n",
            "          ...,\n",
            "          [0.2549, 0.2510, 0.2549,  ..., 0.2392, 0.2549, 0.2627],\n",
            "          [0.2549, 0.2510, 0.2510,  ..., 0.2353, 0.2431, 0.2549],\n",
            "          [0.2627, 0.2588, 0.2588,  ..., 0.2549, 0.2471, 0.2392]],\n",
            "\n",
            "         [[0.7529, 0.7569, 0.7569,  ..., 0.7843, 0.7804, 0.7765],\n",
            "          [0.7725, 0.7765, 0.7725,  ..., 0.7804, 0.7765, 0.7725],\n",
            "          [0.7882, 0.7882, 0.7882,  ..., 0.7804, 0.7765, 0.7686],\n",
            "          ...,\n",
            "          [0.2706, 0.2667, 0.2706,  ..., 0.2549, 0.2706, 0.2784],\n",
            "          [0.2706, 0.2667, 0.2667,  ..., 0.2510, 0.2588, 0.2706],\n",
            "          [0.2784, 0.2745, 0.2745,  ..., 0.2627, 0.2549, 0.2471]],\n",
            "\n",
            "         [[0.9490, 0.9529, 0.9451,  ..., 0.9451, 0.9412, 0.9373],\n",
            "          [0.9373, 0.9412, 0.9451,  ..., 0.9647, 0.9608, 0.9569],\n",
            "          [0.9412, 0.9412, 0.9529,  ..., 0.9922, 0.9882, 0.9882],\n",
            "          ...,\n",
            "          [0.3137, 0.3098, 0.3137,  ..., 0.2980, 0.3137, 0.3216],\n",
            "          [0.3137, 0.3098, 0.3098,  ..., 0.2941, 0.3020, 0.3137],\n",
            "          [0.3216, 0.3176, 0.3176,  ..., 0.3098, 0.3020, 0.2941]]]],\n",
            "       device='cuda:0') tensor([[[[0.6157, 0.6235, 0.6275,  ..., 0.6000, 0.6078, 0.6118],\n",
            "          [0.6157, 0.6235, 0.6314,  ..., 0.5961, 0.6039, 0.6078],\n",
            "          [0.6078, 0.6157, 0.6235,  ..., 0.6000, 0.6000, 0.6039],\n",
            "          ...,\n",
            "          [0.2980, 0.2980, 0.2941,  ..., 0.2941, 0.2941, 0.2941],\n",
            "          [0.2980, 0.2980, 0.2941,  ..., 0.2941, 0.2941, 0.2980],\n",
            "          [0.2941, 0.2902, 0.2902,  ..., 0.2902, 0.2902, 0.2941]],\n",
            "\n",
            "         [[0.7216, 0.7294, 0.7333,  ..., 0.7098, 0.7176, 0.7216],\n",
            "          [0.7216, 0.7294, 0.7412,  ..., 0.7059, 0.7137, 0.7176],\n",
            "          [0.7176, 0.7255, 0.7333,  ..., 0.6980, 0.7098, 0.7137],\n",
            "          ...,\n",
            "          [0.3255, 0.3255, 0.3255,  ..., 0.3255, 0.3255, 0.3255],\n",
            "          [0.3255, 0.3255, 0.3255,  ..., 0.3255, 0.3255, 0.3294],\n",
            "          [0.3216, 0.3176, 0.3216,  ..., 0.3216, 0.3216, 0.3255]],\n",
            "\n",
            "         [[0.9843, 0.9922, 0.9961,  ..., 0.9569, 0.9647, 0.9686],\n",
            "          [0.9843, 0.9922, 0.9961,  ..., 0.9529, 0.9608, 0.9647],\n",
            "          [0.9725, 0.9804, 0.9804,  ..., 0.9490, 0.9569, 0.9608],\n",
            "          ...,\n",
            "          [0.4275, 0.4275, 0.4157,  ..., 0.4157, 0.4157, 0.4157],\n",
            "          [0.4275, 0.4275, 0.4157,  ..., 0.4157, 0.4157, 0.4196],\n",
            "          [0.4235, 0.4196, 0.4118,  ..., 0.4118, 0.4118, 0.4157]]]],\n",
            "       device='cuda:0')\n"
          ]
        }
      ]
    },
    {
      "cell_type": "code",
      "source": [],
      "metadata": {
        "id": "Schegm-5ON1_"
      },
      "execution_count": null,
      "outputs": []
    }
  ]
}